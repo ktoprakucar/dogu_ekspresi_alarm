{
 "cells": [
  {
   "cell_type": "code",
   "execution_count": 1,
   "metadata": {},
   "outputs": [],
   "source": [
    "import requests\n",
    "from bs4 import BeautifulSoup"
   ]
  },
  {
   "cell_type": "code",
   "execution_count": 2,
   "metadata": {},
   "outputs": [],
   "source": [
    "url = 'https://ebilet.tcddtasimacilik.gov.tr/view/eybis/tnmGenel/tcddWebContent.jsf'\n",
    "params = {'Content-Type': 'application/x-www-form-urlencoded; charset=UTF-8',\n",
    "'Pragma': 'no-cache',\n",
    "'Accept': 'application/xml, text/xml, */*; q=0.01',\n",
    "'Accept-Encoding': 'identity',\n",
    "'Host': \"ebilet.tcddtasimacilik.gov.tr\",\n",
    "'Accept-Language': 'en-us',\n",
    "'Cache-Control': 'no-cache',\n",
    "'Origin': 'https://ebilet.tcddtasimacilik.gov.tr',\n",
    "'User-Agent': 'Mozilla/5.0 (Macintosh; Intel Mac OS X 10_14_1) AppleWebKit/605.1.15 (KHTML, like Gecko) Version/12.0.1 Safari/605.1.15',\n",
    "'Referer': 'https://ebilet.tcddtasimacilik.gov.tr/view/eybis/tnmGenel/tcddWebContent.jsf',\n",
    "'DNT': 1,\n",
    "'Connection': 'keep-alive',\n",
    "'X-Cookie': 'yolcuTabId=21321312343; JSESSIONID=4325546564',\n",
    "'Faces-Request': 'partial/ajax',\n",
    "'X-Requested-With': 'XMLHttpRequest'}"
   ]
  },
  {
   "cell_type": "code",
   "execution_count": 3,
   "metadata": {},
   "outputs": [
    {
     "name": "stderr",
     "output_type": "stream",
     "text": [
      "/Users/toprak.ucar/anaconda3/lib/python3.7/site-packages/urllib3/connectionpool.py:857: InsecureRequestWarning: Unverified HTTPS request is being made. Adding certificate verification is strongly advised. See: https://urllib3.readthedocs.io/en/latest/advanced-usage.html#ssl-warnings\n",
      "  InsecureRequestWarning)\n"
     ]
    }
   ],
   "source": [
    "response = requests.post(url, verify = False, data=params)"
   ]
  },
  {
   "cell_type": "code",
   "execution_count": 4,
   "metadata": {},
   "outputs": [],
   "source": [
    "soup = BeautifulSoup(response.content)"
   ]
  },
  {
   "cell_type": "code",
   "execution_count": 5,
   "metadata": {},
   "outputs": [],
   "source": [
    "viewState = soup.find('input', {'id': 'javax.faces.ViewState'}).get('value')"
   ]
  },
  {
   "cell_type": "code",
   "execution_count": 6,
   "metadata": {},
   "outputs": [
    {
     "name": "stdout",
     "output_type": "stream",
     "text": [
      "-6852354125367432389:6847348120002195731\n"
     ]
    }
   ],
   "source": [
    "print(viewState)"
   ]
  },
  {
   "cell_type": "code",
   "execution_count": 7,
   "metadata": {},
   "outputs": [],
   "source": [
    "data = {'javax.faces.partial.ajax' : True,\n",
    "'javax.faces.source' : 'btnSeferSorgula',\n",
    "'javax.faces.partial.execute' : 'biletAramaForm',\n",
    "'javax.faces.partial.render' : 'msg',\n",
    "'btnSeferSorgula' : 'btnSeferSorgula',\n",
    "'biletAramaForm' : 'biletAramaForm',\n",
    "'tipradioIslemTipi' : 0,\n",
    "'nereden' : 'Ankara+Gar',\n",
    "'trCalGid_input' : '05.12.2019',\n",
    "'tipradioSeyehatTuru' :1,\n",
    "'nereye' : 'Kars',\n",
    "'syolcuSayisi_input' : 1,\n",
    "'javax.faces.ViewState' : viewState}"
   ]
  },
  {
   "cell_type": "code",
   "execution_count": 8,
   "metadata": {},
   "outputs": [
    {
     "name": "stderr",
     "output_type": "stream",
     "text": [
      "/Users/toprak.ucar/anaconda3/lib/python3.7/site-packages/urllib3/connectionpool.py:857: InsecureRequestWarning: Unverified HTTPS request is being made. Adding certificate verification is strongly advised. See: https://urllib3.readthedocs.io/en/latest/advanced-usage.html#ssl-warnings\n",
      "  InsecureRequestWarning)\n"
     ]
    }
   ],
   "source": [
    "response = requests.post(url, verify = False, params=params, json=data)"
   ]
  },
  {
   "cell_type": "code",
   "execution_count": 9,
   "metadata": {},
   "outputs": [
    {
     "data": {
      "text/plain": [
       "False"
      ]
     },
     "execution_count": 9,
     "metadata": {},
     "output_type": "execute_result"
    }
   ],
   "source": [
    "\"int_sat_001\" in response.content.decode()"
   ]
  },
  {
   "cell_type": "code",
   "execution_count": null,
   "metadata": {},
   "outputs": [],
   "source": []
  }
 ],
 "metadata": {
  "kernelspec": {
   "display_name": "Python 3",
   "language": "python",
   "name": "python3"
  },
  "language_info": {
   "codemirror_mode": {
    "name": "ipython",
    "version": 3
   },
   "file_extension": ".py",
   "mimetype": "text/x-python",
   "name": "python",
   "nbconvert_exporter": "python",
   "pygments_lexer": "ipython3",
   "version": "3.7.0"
  }
 },
 "nbformat": 4,
 "nbformat_minor": 2
}
