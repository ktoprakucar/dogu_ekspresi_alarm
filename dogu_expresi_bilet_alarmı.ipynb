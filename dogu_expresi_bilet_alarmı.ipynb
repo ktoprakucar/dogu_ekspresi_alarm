{
 "cells": [
  {
   "cell_type": "code",
   "execution_count": 1,
   "metadata": {},
   "outputs": [],
   "source": [
    "import requests\n",
    "import re\n",
    "import random\n",
    "import playsound"
   ]
  },
  {
   "cell_type": "code",
   "execution_count": 2,
   "metadata": {},
   "outputs": [],
   "source": [
    "# GG.AA.YYYY\n",
    "date = '08.03.2019'\n",
    "# yolcu sayısı\n",
    "passengers = '2'"
   ]
  },
  {
   "cell_type": "code",
   "execution_count": 3,
   "metadata": {},
   "outputs": [],
   "source": [
    "url = 'https://ebilet.tcddtasimacilik.gov.tr/view/eybis/tnmGenel/tcddWebContent.jsf'"
   ]
  },
  {
   "cell_type": "code",
   "execution_count": 4,
   "metadata": {},
   "outputs": [],
   "source": [
    "first_request_data = {'javax.faces.partial.ajax':'true',\n",
    "'javax.faces.source':'btnSeferSorgula',\n",
    "'javax.faces.partial.execute':'biletAramaForm',\n",
    "'javax.faces.partial.render':'msg',\n",
    "'btnSeferSorgula':'btnSeferSorgula',\n",
    "'biletAramaForm':'biletAramaForm',\n",
    "'tipradioIslemTipi':'0'}"
   ]
  },
  {
   "cell_type": "code",
   "execution_count": 5,
   "metadata": {},
   "outputs": [],
   "source": [
    "def retrieve_header_params(tabId, sessionId):\n",
    "    return {'Content-Type': 'application/x-www-form-urlencoded; charset=UTF-8',\n",
    "        'Pragma': 'no-cache',\n",
    "        'Accept': 'application/xml, text/xml, */*; q=0.01',\n",
    "        'Accept-Encoding': 'identity',\n",
    "        'Host': \"ebilet.tcddtasimacilik.gov.tr\",\n",
    "        'Accept-Language': 'en-us',\n",
    "        'Cache-Control': 'no-cache',\n",
    "        'Origin': 'https://ebilet.tcddtasimacilik.gov.tr',\n",
    "        'User-Agent': 'Mozilla/5.0 (Macintosh; Intel Mac OS X 10_14_1) AppleWebKit/605.1.15 (KHTML, like Gecko) Version/12.0.1 Safari/605.1.15',\n",
    "        'Referer': 'https://ebilet.tcddtasimacilik.gov.tr/view/eybis/tnmGenel/tcddWebContent.jsf',\n",
    "        'DNT': \"1\",\n",
    "        'Connection': 'keep-alive',\n",
    "        'X-Cookie': 'yolcuTabId=' + tabId + '; JSESSIONID=' + sessionId ,\n",
    "        'Faces-Request': 'partial/ajax',\n",
    "        'X-Requested-With': 'XMLHttpRequest'}"
   ]
  },
  {
   "cell_type": "code",
   "execution_count": 6,
   "metadata": {},
   "outputs": [],
   "source": [
    "def retrieve_data(viewState):\n",
    "    return {'javax.faces.partial.ajax' : 'True',\n",
    "        'javax.faces.source' : 'btnSeferSorgula',\n",
    "        'javax.faces.partial.execute' : 'biletAramaForm',\n",
    "        'javax.faces.partial.render' : 'msg',\n",
    "        'btnSeferSorgula' : 'btnSeferSorgula',\n",
    "        'biletAramaForm' : 'biletAramaForm',\n",
    "        'tipradioIslemTipi' : '0',\n",
    "        'nereden' : 'Ankara Gar',\n",
    "        'trCalGid_input' : date,\n",
    "        'tipradioSeyehatTuru' :'1',\n",
    "        'nereye' : 'Kars',\n",
    "        'syolcuSayisi_input' : passengers,\n",
    "        'javax.faces.ViewState' : viewState}"
   ]
  },
  {
   "cell_type": "code",
   "execution_count": 7,
   "metadata": {},
   "outputs": [
    {
     "name": "stderr",
     "output_type": "stream",
     "text": [
      "/usr/local/lib/python3.6/dist-packages/urllib3/connectionpool.py:858: InsecureRequestWarning: Unverified HTTPS request is being made. Adding certificate verification is strongly advised. See: https://urllib3.readthedocs.io/en/latest/advanced-usage.html#ssl-warnings\n",
      "  InsecureRequestWarning)\n",
      "/usr/local/lib/python3.6/dist-packages/urllib3/connectionpool.py:858: InsecureRequestWarning: Unverified HTTPS request is being made. Adding certificate verification is strongly advised. See: https://urllib3.readthedocs.io/en/latest/advanced-usage.html#ssl-warnings\n",
      "  InsecureRequestWarning)\n"
     ]
    },
    {
     "name": "stdout",
     "output_type": "stream",
     "text": [
      "Biletler çıktı!!\n"
     ]
    },
    {
     "name": "stderr",
     "output_type": "stream",
     "text": [
      "/usr/local/lib/python3.6/dist-packages/urllib3/connectionpool.py:858: InsecureRequestWarning: Unverified HTTPS request is being made. Adding certificate verification is strongly advised. See: https://urllib3.readthedocs.io/en/latest/advanced-usage.html#ssl-warnings\n",
      "  InsecureRequestWarning)\n",
      "/usr/local/lib/python3.6/dist-packages/urllib3/connectionpool.py:858: InsecureRequestWarning: Unverified HTTPS request is being made. Adding certificate verification is strongly advised. See: https://urllib3.readthedocs.io/en/latest/advanced-usage.html#ssl-warnings\n",
      "  InsecureRequestWarning)\n"
     ]
    },
    {
     "ename": "KeyboardInterrupt",
     "evalue": "",
     "output_type": "error",
     "traceback": [
      "\u001b[0;31m---------------------------------------------------------------------------\u001b[0m",
      "\u001b[0;31mKeyboardInterrupt\u001b[0m                         Traceback (most recent call last)",
      "\u001b[0;32m<ipython-input-7-f218b573d5ef>\u001b[0m in \u001b[0;36m<module>\u001b[0;34m()\u001b[0m\n\u001b[1;32m      9\u001b[0m     \u001b[0mresponse\u001b[0m \u001b[0;34m=\u001b[0m \u001b[0mrequests\u001b[0m\u001b[0;34m.\u001b[0m\u001b[0mpost\u001b[0m\u001b[0;34m(\u001b[0m\u001b[0murl\u001b[0m\u001b[0;34m,\u001b[0m \u001b[0mverify\u001b[0m \u001b[0;34m=\u001b[0m \u001b[0;32mFalse\u001b[0m\u001b[0;34m,\u001b[0m \u001b[0mheaders\u001b[0m\u001b[0;34m=\u001b[0m\u001b[0mheader_params\u001b[0m\u001b[0;34m,\u001b[0m \u001b[0mparams\u001b[0m\u001b[0;34m=\u001b[0m\u001b[0mdata\u001b[0m\u001b[0;34m,\u001b[0m \u001b[0mcookies\u001b[0m\u001b[0;34m=\u001b[0m\u001b[0mcookies\u001b[0m\u001b[0;34m)\u001b[0m\u001b[0;34m\u001b[0m\u001b[0m\n\u001b[1;32m     10\u001b[0m     \u001b[0;32mif\u001b[0m \u001b[0;34m\"int_sat_001\"\u001b[0m \u001b[0;32min\u001b[0m \u001b[0mresponse\u001b[0m\u001b[0;34m.\u001b[0m\u001b[0mcontent\u001b[0m\u001b[0;34m.\u001b[0m\u001b[0mdecode\u001b[0m\u001b[0;34m(\u001b[0m\u001b[0;34m)\u001b[0m\u001b[0;34m:\u001b[0m\u001b[0;34m\u001b[0m\u001b[0m\n\u001b[0;32m---> 11\u001b[0;31m         \u001b[0mplaysound\u001b[0m\u001b[0;34m.\u001b[0m\u001b[0mplaysound\u001b[0m\u001b[0;34m(\u001b[0m\u001b[0;34m'alarm.mp3'\u001b[0m\u001b[0;34m,\u001b[0m \u001b[0;32mTrue\u001b[0m\u001b[0;34m)\u001b[0m\u001b[0;34m\u001b[0m\u001b[0m\n\u001b[0m\u001b[1;32m     12\u001b[0m         \u001b[0mprint\u001b[0m\u001b[0;34m(\u001b[0m\u001b[0;34m\"Biletler çıktı!!\"\u001b[0m\u001b[0;34m)\u001b[0m\u001b[0;34m\u001b[0m\u001b[0m\n",
      "\u001b[0;32m/usr/local/lib/python3.6/dist-packages/playsound.py\u001b[0m in \u001b[0;36m_playsoundNix\u001b[0;34m(sound, block)\u001b[0m\n\u001b[1;32m    109\u001b[0m     \u001b[0;31m# https://lazka.github.io/pgi-docs/#Gst-1.0/classes/Bus.html\u001b[0m\u001b[0;34m\u001b[0m\u001b[0;34m\u001b[0m\u001b[0m\n\u001b[1;32m    110\u001b[0m     \u001b[0mbus\u001b[0m \u001b[0;34m=\u001b[0m \u001b[0mplaybin\u001b[0m\u001b[0;34m.\u001b[0m\u001b[0mget_bus\u001b[0m\u001b[0;34m(\u001b[0m\u001b[0;34m)\u001b[0m\u001b[0;34m\u001b[0m\u001b[0m\n\u001b[0;32m--> 111\u001b[0;31m     \u001b[0mbus\u001b[0m\u001b[0;34m.\u001b[0m\u001b[0mpoll\u001b[0m\u001b[0;34m(\u001b[0m\u001b[0mGst\u001b[0m\u001b[0;34m.\u001b[0m\u001b[0mMessageType\u001b[0m\u001b[0;34m.\u001b[0m\u001b[0mEOS\u001b[0m\u001b[0;34m,\u001b[0m \u001b[0mGst\u001b[0m\u001b[0;34m.\u001b[0m\u001b[0mCLOCK_TIME_NONE\u001b[0m\u001b[0;34m)\u001b[0m\u001b[0;34m\u001b[0m\u001b[0m\n\u001b[0m\u001b[1;32m    112\u001b[0m     \u001b[0mplaybin\u001b[0m\u001b[0;34m.\u001b[0m\u001b[0mset_state\u001b[0m\u001b[0;34m(\u001b[0m\u001b[0mGst\u001b[0m\u001b[0;34m.\u001b[0m\u001b[0mState\u001b[0m\u001b[0;34m.\u001b[0m\u001b[0mNULL\u001b[0m\u001b[0;34m)\u001b[0m\u001b[0;34m\u001b[0m\u001b[0m\n\u001b[1;32m    113\u001b[0m \u001b[0;34m\u001b[0m\u001b[0m\n",
      "\u001b[0;31mKeyboardInterrupt\u001b[0m: "
     ]
    }
   ],
   "source": [
    "while(6 > 5):\n",
    "    tabId = str(random.randint(1,123456))\n",
    "    sessionId = str(random.randint(1,123456))\n",
    "    header_params = retrieve_header_params(tabId, sessionId)\n",
    "    response = requests.post(url, verify = False, headers=header_params, params=first_request_data)\n",
    "    viewState = re.findall(r'[0-9:-]{10,}', response.content.decode())[0]\n",
    "    cookies = response.cookies\n",
    "    data = retrieve_data(viewState)\n",
    "    response = requests.post(url, verify = False, headers=header_params, params=data, cookies=cookies)\n",
    "    if \"int_sat_001\" in response.content.decode():\n",
    "        playsound.playsound('alarm.mp3', True)\n",
    "        print(\"Biletler çıktı!!\")"
   ]
  },
  {
   "cell_type": "code",
   "execution_count": null,
   "metadata": {},
   "outputs": [],
   "source": []
  }
 ],
 "metadata": {
  "kernelspec": {
   "display_name": "Python 3",
   "language": "python",
   "name": "python3"
  },
  "language_info": {
   "codemirror_mode": {
    "name": "ipython",
    "version": 3
   },
   "file_extension": ".py",
   "mimetype": "text/x-python",
   "name": "python",
   "nbconvert_exporter": "python",
   "pygments_lexer": "ipython3",
   "version": "3.6.6"
  }
 },
 "nbformat": 4,
 "nbformat_minor": 2
}
